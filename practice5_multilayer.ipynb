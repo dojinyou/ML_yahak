{
  "nbformat": 4,
  "nbformat_minor": 0,
  "metadata": {
    "colab": {
      "name": "practice5-multilayer.ipynb",
      "provenance": [],
      "collapsed_sections": []
    },
    "kernelspec": {
      "name": "python3",
      "display_name": "Python 3"
    },
    "accelerator": "GPU"
  },
  "cells": [
    {
      "cell_type": "markdown",
      "metadata": {
        "id": "ecbNH6UeNxDm",
        "colab_type": "text"
      },
      "source": [
        "# 히든레이어\n",
        "\n",
        "- 보스턴 집값 예측: https://raw.githubusercontent.com/blackdew/tensorflow1/master/csv/boston.csv\n",
        "\n",
        "- 아이리스 품종 분류: https://raw.githubusercontent.com/blackdew/tensorflow1/master/csv/iris.csv \n"
      ]
    },
    {
      "cell_type": "code",
      "metadata": {
        "id": "lB0htFvCNrnX",
        "colab_type": "code",
        "colab": {}
      },
      "source": [
        "# 라이브러리 사용\n",
        "import tensorflow as tf\n",
        "import pandas as pd"
      ],
      "execution_count": 1,
      "outputs": []
    },
    {
      "cell_type": "markdown",
      "metadata": {
        "id": "8E-uWImTOsEW",
        "colab_type": "text"
      },
      "source": [
        "## 보스턴 집값 예측"
      ]
    },
    {
      "cell_type": "code",
      "metadata": {
        "id": "5seJatAXOgPs",
        "colab_type": "code",
        "colab": {
          "base_uri": "https://localhost:8080/",
          "height": 34
        },
        "outputId": "54430c41-005d-469d-cb07-eb906598943e"
      },
      "source": [
        "# 1.과거의 데이터를 준비합니다.\n",
        "파일경로 = 'https://raw.githubusercontent.com/blackdew/tensorflow1/master/csv/boston.csv'\n",
        "보스턴 = pd.read_csv(파일경로)\n",
        "\n",
        "# 종속변수, 독립변수\n",
        "독립 = 보스턴[['crim', 'zn', 'indus', 'chas', 'nox', \n",
        "            'rm', 'age', 'dis', 'rad', 'tax',\n",
        "            'ptratio', 'b', 'lstat']]\n",
        "종속 = 보스턴[['medv']]\n",
        "print(독립.shape, 종속.shape)"
      ],
      "execution_count": 2,
      "outputs": [
        {
          "output_type": "stream",
          "text": [
            "(506, 13) (506, 1)\n"
          ],
          "name": "stdout"
        }
      ]
    },
    {
      "cell_type": "code",
      "metadata": {
        "id": "vfkJqttEOiJt",
        "colab_type": "code",
        "colab": {}
      },
      "source": [
        "# 2. 모델의 구조를 만듭니다\n",
        "X = tf.keras.layers.Input(shape=[13])\n",
        "H = tf.keras.layers.Dense(10, activation='swish')(X)\n",
        "Y = tf.keras.layers.Dense(1)(H)\n",
        "model = tf.keras.models.Model(X, Y)\n",
        "model.compile(loss='mse')"
      ],
      "execution_count": 3,
      "outputs": []
    },
    {
      "cell_type": "code",
      "metadata": {
        "id": "3m3Ap3YVYQIZ",
        "colab_type": "code",
        "colab": {
          "base_uri": "https://localhost:8080/",
          "height": 263
        },
        "outputId": "14c7f4be-3df3-4388-8ef5-f3ac869ab1cd"
      },
      "source": [
        "# 모델 구조 확인\n",
        "model.summary()"
      ],
      "execution_count": 4,
      "outputs": [
        {
          "output_type": "stream",
          "text": [
            "Model: \"functional_1\"\n",
            "_________________________________________________________________\n",
            "Layer (type)                 Output Shape              Param #   \n",
            "=================================================================\n",
            "input_1 (InputLayer)         [(None, 13)]              0         \n",
            "_________________________________________________________________\n",
            "dense (Dense)                (None, 10)                140       \n",
            "_________________________________________________________________\n",
            "dense_1 (Dense)              (None, 1)                 11        \n",
            "=================================================================\n",
            "Total params: 151\n",
            "Trainable params: 151\n",
            "Non-trainable params: 0\n",
            "_________________________________________________________________\n"
          ],
          "name": "stdout"
        }
      ]
    },
    {
      "cell_type": "code",
      "metadata": {
        "id": "jMNsfnzyOoDm",
        "colab_type": "code",
        "colab": {
          "base_uri": "https://localhost:8080/",
          "height": 1000
        },
        "outputId": "8033f6ef-2c81-4be8-b39f-57a7c1370737"
      },
      "source": [
        "# 3.데이터로 모델을 학습(FIT)합니다.\n",
        "model.fit(독립, 종속, epochs=100)"
      ],
      "execution_count": 5,
      "outputs": [
        {
          "output_type": "stream",
          "text": [
            "Epoch 1/100\n",
            "16/16 [==============================] - 0s 4ms/step - loss: 1430.1902\n",
            "Epoch 2/100\n",
            "16/16 [==============================] - 0s 2ms/step - loss: 689.4906\n",
            "Epoch 3/100\n",
            "16/16 [==============================] - 0s 3ms/step - loss: 358.6960\n",
            "Epoch 4/100\n",
            "16/16 [==============================] - 0s 2ms/step - loss: 198.8892\n",
            "Epoch 5/100\n",
            "16/16 [==============================] - 0s 3ms/step - loss: 142.7413\n",
            "Epoch 6/100\n",
            "16/16 [==============================] - 0s 3ms/step - loss: 118.0673\n",
            "Epoch 7/100\n",
            "16/16 [==============================] - 0s 3ms/step - loss: 100.4951\n",
            "Epoch 8/100\n",
            "16/16 [==============================] - 0s 3ms/step - loss: 90.0683\n",
            "Epoch 9/100\n",
            "16/16 [==============================] - 0s 3ms/step - loss: 84.3103\n",
            "Epoch 10/100\n",
            "16/16 [==============================] - 0s 2ms/step - loss: 81.7898\n",
            "Epoch 11/100\n",
            "16/16 [==============================] - 0s 3ms/step - loss: 79.2863\n",
            "Epoch 12/100\n",
            "16/16 [==============================] - 0s 3ms/step - loss: 77.6946\n",
            "Epoch 13/100\n",
            "16/16 [==============================] - 0s 3ms/step - loss: 76.5589\n",
            "Epoch 14/100\n",
            "16/16 [==============================] - 0s 3ms/step - loss: 74.9384\n",
            "Epoch 15/100\n",
            "16/16 [==============================] - 0s 3ms/step - loss: 73.7301\n",
            "Epoch 16/100\n",
            "16/16 [==============================] - 0s 3ms/step - loss: 72.3400\n",
            "Epoch 17/100\n",
            "16/16 [==============================] - 0s 3ms/step - loss: 71.5567\n",
            "Epoch 18/100\n",
            "16/16 [==============================] - 0s 3ms/step - loss: 70.4754\n",
            "Epoch 19/100\n",
            "16/16 [==============================] - 0s 3ms/step - loss: 69.6363\n",
            "Epoch 20/100\n",
            "16/16 [==============================] - 0s 3ms/step - loss: 69.1180\n",
            "Epoch 21/100\n",
            "16/16 [==============================] - 0s 3ms/step - loss: 68.2518\n",
            "Epoch 22/100\n",
            "16/16 [==============================] - 0s 3ms/step - loss: 67.1285\n",
            "Epoch 23/100\n",
            "16/16 [==============================] - 0s 3ms/step - loss: 66.2270\n",
            "Epoch 24/100\n",
            "16/16 [==============================] - 0s 3ms/step - loss: 65.8394\n",
            "Epoch 25/100\n",
            "16/16 [==============================] - 0s 3ms/step - loss: 65.0132\n",
            "Epoch 26/100\n",
            "16/16 [==============================] - 0s 3ms/step - loss: 64.0879\n",
            "Epoch 27/100\n",
            "16/16 [==============================] - 0s 3ms/step - loss: 63.7132\n",
            "Epoch 28/100\n",
            "16/16 [==============================] - 0s 3ms/step - loss: 63.3748\n",
            "Epoch 29/100\n",
            "16/16 [==============================] - 0s 4ms/step - loss: 61.8785\n",
            "Epoch 30/100\n",
            "16/16 [==============================] - 0s 3ms/step - loss: 62.2045\n",
            "Epoch 31/100\n",
            "16/16 [==============================] - 0s 3ms/step - loss: 61.5931\n",
            "Epoch 32/100\n",
            "16/16 [==============================] - 0s 3ms/step - loss: 60.9347\n",
            "Epoch 33/100\n",
            "16/16 [==============================] - 0s 3ms/step - loss: 60.8351\n",
            "Epoch 34/100\n",
            "16/16 [==============================] - 0s 3ms/step - loss: 59.9404\n",
            "Epoch 35/100\n",
            "16/16 [==============================] - 0s 4ms/step - loss: 60.1778\n",
            "Epoch 36/100\n",
            "16/16 [==============================] - 0s 3ms/step - loss: 59.5650\n",
            "Epoch 37/100\n",
            "16/16 [==============================] - 0s 3ms/step - loss: 59.5140\n",
            "Epoch 38/100\n",
            "16/16 [==============================] - 0s 4ms/step - loss: 58.8304\n",
            "Epoch 39/100\n",
            "16/16 [==============================] - 0s 3ms/step - loss: 58.7341\n",
            "Epoch 40/100\n",
            "16/16 [==============================] - 0s 3ms/step - loss: 57.9890\n",
            "Epoch 41/100\n",
            "16/16 [==============================] - 0s 2ms/step - loss: 58.0069\n",
            "Epoch 42/100\n",
            "16/16 [==============================] - 0s 2ms/step - loss: 57.7752\n",
            "Epoch 43/100\n",
            "16/16 [==============================] - 0s 3ms/step - loss: 57.2218\n",
            "Epoch 44/100\n",
            "16/16 [==============================] - 0s 2ms/step - loss: 56.8571\n",
            "Epoch 45/100\n",
            "16/16 [==============================] - 0s 2ms/step - loss: 56.4419\n",
            "Epoch 46/100\n",
            "16/16 [==============================] - 0s 2ms/step - loss: 56.1654\n",
            "Epoch 47/100\n",
            "16/16 [==============================] - 0s 2ms/step - loss: 56.0581\n",
            "Epoch 48/100\n",
            "16/16 [==============================] - 0s 2ms/step - loss: 55.7362\n",
            "Epoch 49/100\n",
            "16/16 [==============================] - 0s 2ms/step - loss: 55.2579\n",
            "Epoch 50/100\n",
            "16/16 [==============================] - 0s 2ms/step - loss: 55.0224\n",
            "Epoch 51/100\n",
            "16/16 [==============================] - 0s 2ms/step - loss: 54.3813\n",
            "Epoch 52/100\n",
            "16/16 [==============================] - 0s 2ms/step - loss: 54.4238\n",
            "Epoch 53/100\n",
            "16/16 [==============================] - 0s 2ms/step - loss: 53.9695\n",
            "Epoch 54/100\n",
            "16/16 [==============================] - 0s 2ms/step - loss: 53.6192\n",
            "Epoch 55/100\n",
            "16/16 [==============================] - 0s 3ms/step - loss: 53.8501\n",
            "Epoch 56/100\n",
            "16/16 [==============================] - 0s 3ms/step - loss: 53.2960\n",
            "Epoch 57/100\n",
            "16/16 [==============================] - 0s 2ms/step - loss: 52.8091\n",
            "Epoch 58/100\n",
            "16/16 [==============================] - 0s 2ms/step - loss: 52.6155\n",
            "Epoch 59/100\n",
            "16/16 [==============================] - 0s 2ms/step - loss: 52.6765\n",
            "Epoch 60/100\n",
            "16/16 [==============================] - 0s 3ms/step - loss: 52.1625\n",
            "Epoch 61/100\n",
            "16/16 [==============================] - 0s 2ms/step - loss: 51.7586\n",
            "Epoch 62/100\n",
            "16/16 [==============================] - 0s 2ms/step - loss: 51.5948\n",
            "Epoch 63/100\n",
            "16/16 [==============================] - 0s 2ms/step - loss: 51.1529\n",
            "Epoch 64/100\n",
            "16/16 [==============================] - 0s 2ms/step - loss: 50.4592\n",
            "Epoch 65/100\n",
            "16/16 [==============================] - 0s 2ms/step - loss: 50.7951\n",
            "Epoch 66/100\n",
            "16/16 [==============================] - 0s 2ms/step - loss: 50.3195\n",
            "Epoch 67/100\n",
            "16/16 [==============================] - 0s 2ms/step - loss: 50.2389\n",
            "Epoch 68/100\n",
            "16/16 [==============================] - 0s 3ms/step - loss: 49.7210\n",
            "Epoch 69/100\n",
            "16/16 [==============================] - 0s 2ms/step - loss: 49.5282\n",
            "Epoch 70/100\n",
            "16/16 [==============================] - 0s 2ms/step - loss: 49.3497\n",
            "Epoch 71/100\n",
            "16/16 [==============================] - 0s 2ms/step - loss: 49.2850\n",
            "Epoch 72/100\n",
            "16/16 [==============================] - 0s 2ms/step - loss: 48.7537\n",
            "Epoch 73/100\n",
            "16/16 [==============================] - 0s 2ms/step - loss: 48.4941\n",
            "Epoch 74/100\n",
            "16/16 [==============================] - 0s 2ms/step - loss: 48.0331\n",
            "Epoch 75/100\n",
            "16/16 [==============================] - 0s 2ms/step - loss: 47.5925\n",
            "Epoch 76/100\n",
            "16/16 [==============================] - 0s 2ms/step - loss: 47.9155\n",
            "Epoch 77/100\n",
            "16/16 [==============================] - 0s 2ms/step - loss: 47.3787\n",
            "Epoch 78/100\n",
            "16/16 [==============================] - 0s 2ms/step - loss: 46.8735\n",
            "Epoch 79/100\n",
            "16/16 [==============================] - 0s 3ms/step - loss: 46.8667\n",
            "Epoch 80/100\n",
            "16/16 [==============================] - 0s 2ms/step - loss: 46.6386\n",
            "Epoch 81/100\n",
            "16/16 [==============================] - 0s 2ms/step - loss: 46.3099\n",
            "Epoch 82/100\n",
            "16/16 [==============================] - 0s 3ms/step - loss: 45.7642\n",
            "Epoch 83/100\n",
            "16/16 [==============================] - 0s 2ms/step - loss: 46.0723\n",
            "Epoch 84/100\n",
            "16/16 [==============================] - 0s 2ms/step - loss: 45.5196\n",
            "Epoch 85/100\n",
            "16/16 [==============================] - 0s 2ms/step - loss: 45.1905\n",
            "Epoch 86/100\n",
            "16/16 [==============================] - 0s 2ms/step - loss: 44.8472\n",
            "Epoch 87/100\n",
            "16/16 [==============================] - 0s 2ms/step - loss: 44.4958\n",
            "Epoch 88/100\n",
            "16/16 [==============================] - 0s 2ms/step - loss: 44.3782\n",
            "Epoch 89/100\n",
            "16/16 [==============================] - 0s 2ms/step - loss: 44.0852\n",
            "Epoch 90/100\n",
            "16/16 [==============================] - 0s 2ms/step - loss: 43.9320\n",
            "Epoch 91/100\n",
            "16/16 [==============================] - 0s 2ms/step - loss: 43.4885\n",
            "Epoch 92/100\n",
            "16/16 [==============================] - 0s 3ms/step - loss: 43.2454\n",
            "Epoch 93/100\n",
            "16/16 [==============================] - 0s 2ms/step - loss: 43.0805\n",
            "Epoch 94/100\n",
            "16/16 [==============================] - 0s 2ms/step - loss: 43.1457\n",
            "Epoch 95/100\n",
            "16/16 [==============================] - 0s 2ms/step - loss: 42.4313\n",
            "Epoch 96/100\n",
            "16/16 [==============================] - 0s 2ms/step - loss: 42.2506\n",
            "Epoch 97/100\n",
            "16/16 [==============================] - 0s 2ms/step - loss: 42.1004\n",
            "Epoch 98/100\n",
            "16/16 [==============================] - 0s 2ms/step - loss: 42.0603\n",
            "Epoch 99/100\n",
            "16/16 [==============================] - 0s 2ms/step - loss: 41.5381\n",
            "Epoch 100/100\n",
            "16/16 [==============================] - 0s 2ms/step - loss: 41.4731\n"
          ],
          "name": "stdout"
        },
        {
          "output_type": "execute_result",
          "data": {
            "text/plain": [
              "<tensorflow.python.keras.callbacks.History at 0x7f7a60549a58>"
            ]
          },
          "metadata": {
            "tags": []
          },
          "execution_count": 5
        }
      ]
    },
    {
      "cell_type": "code",
      "metadata": {
        "id": "7myiwud5Opdo",
        "colab_type": "code",
        "colab": {
          "base_uri": "https://localhost:8080/",
          "height": 210
        },
        "outputId": "14a97604-f05f-44fc-b720-a187516afb34"
      },
      "source": [
        "# 4. 모델을 이용합니다\n",
        "print(model.predict(독립[:5]))\n",
        "print(종속[:5])"
      ],
      "execution_count": 6,
      "outputs": [
        {
          "output_type": "stream",
          "text": [
            "[[30.976091]\n",
            " [28.078947]\n",
            " [30.403929]\n",
            " [32.853233]\n",
            " [32.00018 ]]\n",
            "   medv\n",
            "0  24.0\n",
            "1  21.6\n",
            "2  34.7\n",
            "3  33.4\n",
            "4  36.2\n"
          ],
          "name": "stdout"
        }
      ]
    },
    {
      "cell_type": "markdown",
      "metadata": {
        "id": "UNjrnjjeOzJr",
        "colab_type": "text"
      },
      "source": [
        "## 아이리스 품종 분류\n"
      ]
    },
    {
      "cell_type": "code",
      "metadata": {
        "id": "8UaitxOBOyrF",
        "colab_type": "code",
        "colab": {
          "base_uri": "https://localhost:8080/",
          "height": 34
        },
        "outputId": "cc67e795-19ac-4ad1-ac88-e02e6b087473"
      },
      "source": [
        "# 1.과거의 데이터를 준비합니다.\n",
        "파일경로 = 'https://raw.githubusercontent.com/blackdew/tensorflow1/master/csv/iris.csv'\n",
        "아이리스 = pd.read_csv(파일경로)\n",
        "\n",
        "# 원핫인코딩\n",
        "아이리스 = pd.get_dummies(아이리스)\n",
        "\n",
        "# 종속변수, 독립변수\n",
        "독립 = 아이리스[['꽃잎길이', '꽃잎폭', '꽃받침길이', '꽃받침폭']]\n",
        "종속 = 아이리스[['품종_setosa', '품종_versicolor', '품종_virginica']]\n",
        "print(독립.shape, 종속.shape)"
      ],
      "execution_count": 7,
      "outputs": [
        {
          "output_type": "stream",
          "text": [
            "(150, 4) (150, 3)\n"
          ],
          "name": "stdout"
        }
      ]
    },
    {
      "cell_type": "code",
      "metadata": {
        "id": "WybEdUjlO1UY",
        "colab_type": "code",
        "colab": {}
      },
      "source": [
        "# 2. 모델의 구조를 만듭니다\n",
        "X = tf.keras.layers.Input(shape=[4])\n",
        "H = tf.keras.layers.Dense(8, activation=\"swish\")(X)\n",
        "H = tf.keras.layers.Dense(8, activation=\"swish\")(H)\n",
        "H = tf.keras.layers.Dense(8, activation=\"swish\")(H)\n",
        "Y = tf.keras.layers.Dense(3, activation='softmax')(H)\n",
        "model = tf.keras.models.Model(X, Y)\n",
        "model.compile(loss='categorical_crossentropy',\n",
        "              metrics='accuracy')"
      ],
      "execution_count": 8,
      "outputs": []
    },
    {
      "cell_type": "code",
      "metadata": {
        "id": "1pMmno2taozU",
        "colab_type": "code",
        "colab": {
          "base_uri": "https://localhost:8080/",
          "height": 334
        },
        "outputId": "d8f0ac6e-8f27-45a6-8adf-104773d1e8f0"
      },
      "source": [
        "# 모델 구조 확인\n",
        "model.summary()"
      ],
      "execution_count": 9,
      "outputs": [
        {
          "output_type": "stream",
          "text": [
            "Model: \"functional_3\"\n",
            "_________________________________________________________________\n",
            "Layer (type)                 Output Shape              Param #   \n",
            "=================================================================\n",
            "input_2 (InputLayer)         [(None, 4)]               0         \n",
            "_________________________________________________________________\n",
            "dense_2 (Dense)              (None, 8)                 40        \n",
            "_________________________________________________________________\n",
            "dense_3 (Dense)              (None, 8)                 72        \n",
            "_________________________________________________________________\n",
            "dense_4 (Dense)              (None, 8)                 72        \n",
            "_________________________________________________________________\n",
            "dense_5 (Dense)              (None, 3)                 27        \n",
            "=================================================================\n",
            "Total params: 211\n",
            "Trainable params: 211\n",
            "Non-trainable params: 0\n",
            "_________________________________________________________________\n"
          ],
          "name": "stdout"
        }
      ]
    },
    {
      "cell_type": "code",
      "metadata": {
        "id": "19E6GPw9O2Ge",
        "colab_type": "code",
        "colab": {
          "base_uri": "https://localhost:8080/",
          "height": 1000
        },
        "outputId": "d33c5fd4-ba8f-4148-cd93-29b1c2f158d9"
      },
      "source": [
        "# 3.데이터로 모델을 학습(FIT)합니다.\n",
        "model.fit(독립, 종속, epochs=100)"
      ],
      "execution_count": 10,
      "outputs": [
        {
          "output_type": "stream",
          "text": [
            "Epoch 1/100\n",
            "5/5 [==============================] - 0s 5ms/step - loss: 1.2162 - accuracy: 0.3333\n",
            "Epoch 2/100\n",
            "5/5 [==============================] - 0s 4ms/step - loss: 1.1818 - accuracy: 0.3333\n",
            "Epoch 3/100\n",
            "5/5 [==============================] - 0s 5ms/step - loss: 1.1601 - accuracy: 0.3333\n",
            "Epoch 4/100\n",
            "5/5 [==============================] - 0s 4ms/step - loss: 1.1420 - accuracy: 0.3333\n",
            "Epoch 5/100\n",
            "5/5 [==============================] - 0s 3ms/step - loss: 1.1239 - accuracy: 0.3333\n",
            "Epoch 6/100\n",
            "5/5 [==============================] - 0s 3ms/step - loss: 1.1069 - accuracy: 0.3333\n",
            "Epoch 7/100\n",
            "5/5 [==============================] - 0s 4ms/step - loss: 1.0887 - accuracy: 0.3333\n",
            "Epoch 8/100\n",
            "5/5 [==============================] - 0s 4ms/step - loss: 1.0696 - accuracy: 0.3333\n",
            "Epoch 9/100\n",
            "5/5 [==============================] - 0s 4ms/step - loss: 1.0510 - accuracy: 0.4600\n",
            "Epoch 10/100\n",
            "5/5 [==============================] - 0s 4ms/step - loss: 1.0303 - accuracy: 0.5533\n",
            "Epoch 11/100\n",
            "5/5 [==============================] - 0s 4ms/step - loss: 1.0112 - accuracy: 0.6333\n",
            "Epoch 12/100\n",
            "5/5 [==============================] - 0s 4ms/step - loss: 0.9897 - accuracy: 0.6667\n",
            "Epoch 13/100\n",
            "5/5 [==============================] - 0s 4ms/step - loss: 0.9658 - accuracy: 0.6667\n",
            "Epoch 14/100\n",
            "5/5 [==============================] - 0s 4ms/step - loss: 0.9421 - accuracy: 0.6667\n",
            "Epoch 15/100\n",
            "5/5 [==============================] - 0s 4ms/step - loss: 0.9153 - accuracy: 0.6667\n",
            "Epoch 16/100\n",
            "5/5 [==============================] - 0s 3ms/step - loss: 0.8868 - accuracy: 0.6667\n",
            "Epoch 17/100\n",
            "5/5 [==============================] - 0s 3ms/step - loss: 0.8607 - accuracy: 0.7267\n",
            "Epoch 18/100\n",
            "5/5 [==============================] - 0s 4ms/step - loss: 0.8291 - accuracy: 0.6933\n",
            "Epoch 19/100\n",
            "5/5 [==============================] - 0s 5ms/step - loss: 0.8007 - accuracy: 0.7533\n",
            "Epoch 20/100\n",
            "5/5 [==============================] - 0s 4ms/step - loss: 0.7705 - accuracy: 0.8000\n",
            "Epoch 21/100\n",
            "5/5 [==============================] - 0s 4ms/step - loss: 0.7396 - accuracy: 0.8400\n",
            "Epoch 22/100\n",
            "5/5 [==============================] - 0s 4ms/step - loss: 0.7094 - accuracy: 0.8333\n",
            "Epoch 23/100\n",
            "5/5 [==============================] - 0s 4ms/step - loss: 0.6783 - accuracy: 0.8600\n",
            "Epoch 24/100\n",
            "5/5 [==============================] - 0s 4ms/step - loss: 0.6479 - accuracy: 0.8867\n",
            "Epoch 25/100\n",
            "5/5 [==============================] - 0s 4ms/step - loss: 0.6185 - accuracy: 0.9200\n",
            "Epoch 26/100\n",
            "5/5 [==============================] - 0s 4ms/step - loss: 0.5899 - accuracy: 0.9133\n",
            "Epoch 27/100\n",
            "5/5 [==============================] - 0s 4ms/step - loss: 0.5624 - accuracy: 0.9333\n",
            "Epoch 28/100\n",
            "5/5 [==============================] - 0s 4ms/step - loss: 0.5356 - accuracy: 0.9267\n",
            "Epoch 29/100\n",
            "5/5 [==============================] - 0s 4ms/step - loss: 0.5101 - accuracy: 0.9533\n",
            "Epoch 30/100\n",
            "5/5 [==============================] - 0s 4ms/step - loss: 0.4853 - accuracy: 0.9333\n",
            "Epoch 31/100\n",
            "5/5 [==============================] - 0s 4ms/step - loss: 0.4621 - accuracy: 0.9600\n",
            "Epoch 32/100\n",
            "5/5 [==============================] - 0s 4ms/step - loss: 0.4401 - accuracy: 0.9600\n",
            "Epoch 33/100\n",
            "5/5 [==============================] - 0s 5ms/step - loss: 0.4191 - accuracy: 0.9667\n",
            "Epoch 34/100\n",
            "5/5 [==============================] - 0s 5ms/step - loss: 0.3983 - accuracy: 0.9667\n",
            "Epoch 35/100\n",
            "5/5 [==============================] - 0s 4ms/step - loss: 0.3791 - accuracy: 0.9667\n",
            "Epoch 36/100\n",
            "5/5 [==============================] - 0s 4ms/step - loss: 0.3614 - accuracy: 0.9733\n",
            "Epoch 37/100\n",
            "5/5 [==============================] - 0s 6ms/step - loss: 0.3435 - accuracy: 0.9733\n",
            "Epoch 38/100\n",
            "5/5 [==============================] - 0s 4ms/step - loss: 0.3291 - accuracy: 0.9733\n",
            "Epoch 39/100\n",
            "5/5 [==============================] - 0s 3ms/step - loss: 0.3132 - accuracy: 0.9733\n",
            "Epoch 40/100\n",
            "5/5 [==============================] - 0s 3ms/step - loss: 0.2974 - accuracy: 0.9800\n",
            "Epoch 41/100\n",
            "5/5 [==============================] - 0s 3ms/step - loss: 0.2899 - accuracy: 0.9600\n",
            "Epoch 42/100\n",
            "5/5 [==============================] - 0s 3ms/step - loss: 0.2730 - accuracy: 0.9733\n",
            "Epoch 43/100\n",
            "5/5 [==============================] - 0s 3ms/step - loss: 0.2626 - accuracy: 0.9867\n",
            "Epoch 44/100\n",
            "5/5 [==============================] - 0s 3ms/step - loss: 0.2517 - accuracy: 0.9800\n",
            "Epoch 45/100\n",
            "5/5 [==============================] - 0s 3ms/step - loss: 0.2438 - accuracy: 0.9800\n",
            "Epoch 46/100\n",
            "5/5 [==============================] - 0s 3ms/step - loss: 0.2321 - accuracy: 0.9800\n",
            "Epoch 47/100\n",
            "5/5 [==============================] - 0s 3ms/step - loss: 0.2234 - accuracy: 0.9733\n",
            "Epoch 48/100\n",
            "5/5 [==============================] - 0s 3ms/step - loss: 0.2139 - accuracy: 0.9800\n",
            "Epoch 49/100\n",
            "5/5 [==============================] - 0s 3ms/step - loss: 0.2089 - accuracy: 0.9800\n",
            "Epoch 50/100\n",
            "5/5 [==============================] - 0s 3ms/step - loss: 0.1994 - accuracy: 0.9867\n",
            "Epoch 51/100\n",
            "5/5 [==============================] - 0s 3ms/step - loss: 0.1928 - accuracy: 0.9800\n",
            "Epoch 52/100\n",
            "5/5 [==============================] - 0s 3ms/step - loss: 0.1856 - accuracy: 0.9800\n",
            "Epoch 53/100\n",
            "5/5 [==============================] - 0s 3ms/step - loss: 0.1808 - accuracy: 0.9733\n",
            "Epoch 54/100\n",
            "5/5 [==============================] - 0s 3ms/step - loss: 0.1740 - accuracy: 0.9800\n",
            "Epoch 55/100\n",
            "5/5 [==============================] - 0s 3ms/step - loss: 0.1686 - accuracy: 0.9867\n",
            "Epoch 56/100\n",
            "5/5 [==============================] - 0s 3ms/step - loss: 0.1656 - accuracy: 0.9800\n",
            "Epoch 57/100\n",
            "5/5 [==============================] - 0s 3ms/step - loss: 0.1581 - accuracy: 0.9867\n",
            "Epoch 58/100\n",
            "5/5 [==============================] - 0s 4ms/step - loss: 0.1551 - accuracy: 0.9800\n",
            "Epoch 59/100\n",
            "5/5 [==============================] - 0s 4ms/step - loss: 0.1523 - accuracy: 0.9800\n",
            "Epoch 60/100\n",
            "5/5 [==============================] - 0s 4ms/step - loss: 0.1467 - accuracy: 0.9867\n",
            "Epoch 61/100\n",
            "5/5 [==============================] - 0s 4ms/step - loss: 0.1441 - accuracy: 0.9733\n",
            "Epoch 62/100\n",
            "5/5 [==============================] - 0s 4ms/step - loss: 0.1405 - accuracy: 0.9867\n",
            "Epoch 63/100\n",
            "5/5 [==============================] - 0s 4ms/step - loss: 0.1374 - accuracy: 0.9800\n",
            "Epoch 64/100\n",
            "5/5 [==============================] - 0s 4ms/step - loss: 0.1349 - accuracy: 0.9800\n",
            "Epoch 65/100\n",
            "5/5 [==============================] - 0s 4ms/step - loss: 0.1327 - accuracy: 0.9733\n",
            "Epoch 66/100\n",
            "5/5 [==============================] - 0s 4ms/step - loss: 0.1283 - accuracy: 0.9800\n",
            "Epoch 67/100\n",
            "5/5 [==============================] - 0s 4ms/step - loss: 0.1276 - accuracy: 0.9800\n",
            "Epoch 68/100\n",
            "5/5 [==============================] - 0s 4ms/step - loss: 0.1261 - accuracy: 0.9733\n",
            "Epoch 69/100\n",
            "5/5 [==============================] - 0s 6ms/step - loss: 0.1224 - accuracy: 0.9867\n",
            "Epoch 70/100\n",
            "5/5 [==============================] - 0s 4ms/step - loss: 0.1243 - accuracy: 0.9733\n",
            "Epoch 71/100\n",
            "5/5 [==============================] - 0s 4ms/step - loss: 0.1185 - accuracy: 0.9800\n",
            "Epoch 72/100\n",
            "5/5 [==============================] - 0s 3ms/step - loss: 0.1161 - accuracy: 0.9800\n",
            "Epoch 73/100\n",
            "5/5 [==============================] - 0s 5ms/step - loss: 0.1163 - accuracy: 0.9800\n",
            "Epoch 74/100\n",
            "5/5 [==============================] - 0s 4ms/step - loss: 0.1169 - accuracy: 0.9733\n",
            "Epoch 75/100\n",
            "5/5 [==============================] - 0s 5ms/step - loss: 0.1094 - accuracy: 0.9867\n",
            "Epoch 76/100\n",
            "5/5 [==============================] - 0s 5ms/step - loss: 0.1109 - accuracy: 0.9733\n",
            "Epoch 77/100\n",
            "5/5 [==============================] - 0s 4ms/step - loss: 0.1091 - accuracy: 0.9867\n",
            "Epoch 78/100\n",
            "5/5 [==============================] - 0s 4ms/step - loss: 0.1073 - accuracy: 0.9867\n",
            "Epoch 79/100\n",
            "5/5 [==============================] - 0s 4ms/step - loss: 0.1052 - accuracy: 0.9800\n",
            "Epoch 80/100\n",
            "5/5 [==============================] - 0s 4ms/step - loss: 0.1050 - accuracy: 0.9733\n",
            "Epoch 81/100\n",
            "5/5 [==============================] - 0s 4ms/step - loss: 0.1015 - accuracy: 0.9867\n",
            "Epoch 82/100\n",
            "5/5 [==============================] - 0s 4ms/step - loss: 0.1006 - accuracy: 0.9733\n",
            "Epoch 83/100\n",
            "5/5 [==============================] - 0s 4ms/step - loss: 0.1018 - accuracy: 0.9733\n",
            "Epoch 84/100\n",
            "5/5 [==============================] - 0s 4ms/step - loss: 0.0973 - accuracy: 0.9733\n",
            "Epoch 85/100\n",
            "5/5 [==============================] - 0s 4ms/step - loss: 0.0992 - accuracy: 0.9800\n",
            "Epoch 86/100\n",
            "5/5 [==============================] - 0s 4ms/step - loss: 0.0951 - accuracy: 0.9800\n",
            "Epoch 87/100\n",
            "5/5 [==============================] - 0s 4ms/step - loss: 0.0924 - accuracy: 0.9867\n",
            "Epoch 88/100\n",
            "5/5 [==============================] - 0s 4ms/step - loss: 0.0937 - accuracy: 0.9733\n",
            "Epoch 89/100\n",
            "5/5 [==============================] - 0s 4ms/step - loss: 0.0913 - accuracy: 0.9867\n",
            "Epoch 90/100\n",
            "5/5 [==============================] - 0s 4ms/step - loss: 0.0899 - accuracy: 0.9733\n",
            "Epoch 91/100\n",
            "5/5 [==============================] - 0s 4ms/step - loss: 0.0911 - accuracy: 0.9667\n",
            "Epoch 92/100\n",
            "5/5 [==============================] - 0s 4ms/step - loss: 0.0898 - accuracy: 0.9800\n",
            "Epoch 93/100\n",
            "5/5 [==============================] - 0s 4ms/step - loss: 0.0896 - accuracy: 0.9867\n",
            "Epoch 94/100\n",
            "5/5 [==============================] - 0s 4ms/step - loss: 0.0904 - accuracy: 0.9733\n",
            "Epoch 95/100\n",
            "5/5 [==============================] - 0s 4ms/step - loss: 0.0852 - accuracy: 0.9867\n",
            "Epoch 96/100\n",
            "5/5 [==============================] - 0s 4ms/step - loss: 0.0838 - accuracy: 0.9867\n",
            "Epoch 97/100\n",
            "5/5 [==============================] - 0s 4ms/step - loss: 0.0924 - accuracy: 0.9733\n",
            "Epoch 98/100\n",
            "5/5 [==============================] - 0s 4ms/step - loss: 0.0822 - accuracy: 0.9867\n",
            "Epoch 99/100\n",
            "5/5 [==============================] - 0s 5ms/step - loss: 0.0871 - accuracy: 0.9733\n",
            "Epoch 100/100\n",
            "5/5 [==============================] - 0s 4ms/step - loss: 0.0909 - accuracy: 0.9667\n"
          ],
          "name": "stdout"
        },
        {
          "output_type": "execute_result",
          "data": {
            "text/plain": [
              "<tensorflow.python.keras.callbacks.History at 0x7f7a603e2550>"
            ]
          },
          "metadata": {
            "tags": []
          },
          "execution_count": 10
        }
      ]
    },
    {
      "cell_type": "code",
      "metadata": {
        "id": "S2zow9BvO3hx",
        "colab_type": "code",
        "colab": {
          "base_uri": "https://localhost:8080/",
          "height": 210
        },
        "outputId": "fdfc172b-08f6-4c27-fed3-2507b2b851a4"
      },
      "source": [
        "# 4. 모델을 이용합니다\n",
        "print(model.predict(독립[0:5]))\n",
        "print(종속[0:5])"
      ],
      "execution_count": 11,
      "outputs": [
        {
          "output_type": "stream",
          "text": [
            "[[9.9858165e-01 1.4180400e-03 3.5768710e-07]\n",
            " [9.9722987e-01 2.7687608e-03 1.3078942e-06]\n",
            " [9.9782515e-01 2.1738941e-03 9.4902629e-07]\n",
            " [9.9601716e-01 3.9807581e-03 2.0454488e-06]\n",
            " [9.9861217e-01 1.3874382e-03 3.3762910e-07]]\n",
            "   품종_setosa  품종_versicolor  품종_virginica\n",
            "0          1              0             0\n",
            "1          1              0             0\n",
            "2          1              0             0\n",
            "3          1              0             0\n",
            "4          1              0             0\n"
          ],
          "name": "stdout"
        }
      ]
    }
  ]
}